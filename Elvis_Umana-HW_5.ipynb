{
 "cells": [
  {
   "cell_type": "code",
   "execution_count": 170,
   "metadata": {},
   "outputs": [],
   "source": [
    "import numpy as np\n",
    "import matplotlib.pyplot as plt\n",
    "from sklearn.cluster import KMeans\n",
    "from sklearn.mixture import GaussianMixture\n",
    "import pandas as pd\n",
    "from sklearn.metrics import mean_squared_error\n",
    "from sklearn.preprocessing import StandardScaler"
   ]
  },
  {
   "attachments": {},
   "cell_type": "markdown",
   "metadata": {},
   "source": [
    "# Problem 1.2"
   ]
  },
  {
   "attachments": {},
   "cell_type": "markdown",
   "metadata": {},
   "source": [
    "## Data Generation"
   ]
  },
  {
   "cell_type": "code",
   "execution_count": 2,
   "metadata": {},
   "outputs": [],
   "source": [
    "sigma = [0.5, 1, 2, 4, 8]\n",
    "synthetic_set_X = [[], [], [], [], []]\n",
    "synthetic_set_Y = [[], [], [], [], []]\n",
    "\n",
    "for i in range(0,5):\n",
    "    x1, y1 = np.random.multivariate_normal([-1,-1], np.array([[2, 0.5],[0.5, 1]])*sigma[i], 100).T\n",
    "    x2, y2 = np.random.multivariate_normal([1,-1], np.array([[1, -0.5],[-0.5, 2]])*sigma[i], 100).T\n",
    "    x3, y3 = np.random.multivariate_normal([0,-1], np.array([[1, 0],[0, 2]])*sigma[i], 100).T\n",
    "    synthetic_set_X[i] = np.concatenate([x1, x2, x3])\n",
    "    synthetic_set_Y[i] = np.concatenate([y1, y2, y3])\n",
    "\n",
    "synthetic_set_label = np.concatenate([[1]*100, [2]*100, [3]*100])"
   ]
  },
  {
   "attachments": {},
   "cell_type": "markdown",
   "metadata": {},
   "source": [
    "## KMeans Clustering"
   ]
  },
  {
   "cell_type": "code",
   "execution_count": 3,
   "metadata": {},
   "outputs": [],
   "source": [
    "kmeans_0 = KMeans(n_clusters=3, random_state=0, init='k-means++').fit(np.array([synthetic_set_X[0], synthetic_set_Y[0]]).T)\n",
    "kmeans_1 = KMeans(n_clusters=3, random_state=0, init='k-means++').fit(np.array([synthetic_set_X[1], synthetic_set_Y[1]]).T)\n",
    "kmeans_2 = KMeans(n_clusters=3, random_state=0, init='k-means++').fit(np.array([synthetic_set_X[2], synthetic_set_Y[2]]).T)\n",
    "kmeans_3 = KMeans(n_clusters=3, random_state=0, init='k-means++').fit(np.array([synthetic_set_X[3], synthetic_set_Y[3]]).T)\n",
    "kmeans_4 = KMeans(n_clusters=3, random_state=0, init='k-means++').fit(np.array([synthetic_set_X[4], synthetic_set_Y[4]]).T)\n",
    "\n",
    "GMM_0 = GaussianMixture(n_components=3, random_state=0).fit(np.array([synthetic_set_X[0], synthetic_set_Y[0]]).T)\n",
    "GMM_1 = GaussianMixture(n_components=3, random_state=0).fit(np.array([synthetic_set_X[1], synthetic_set_Y[1]]).T)\n",
    "GMM_2 = GaussianMixture(n_components=3, random_state=0).fit(np.array([synthetic_set_X[2], synthetic_set_Y[2]]).T)\n",
    "GMM_3 = GaussianMixture(n_components=3, random_state=0).fit(np.array([synthetic_set_X[3], synthetic_set_Y[3]]).T)\n",
    "GMM_4 = GaussianMixture(n_components=3, random_state=0).fit(np.array([synthetic_set_X[4], synthetic_set_Y[4]]).T)\n"
   ]
  },
  {
   "cell_type": "code",
   "execution_count": 4,
   "metadata": {},
   "outputs": [],
   "source": [
    "Centers = [kmeans_0.cluster_centers_, kmeans_1.cluster_centers_, kmeans_2.cluster_centers_, kmeans_3.cluster_centers_, kmeans_4.cluster_centers_]\n",
    "GMM_Centers = [GMM_0.means_, GMM_1.means_, GMM_2.means_, GMM_3.means_, GMM_4.means_]"
   ]
  },
  {
   "cell_type": "code",
   "execution_count": 5,
   "metadata": {},
   "outputs": [],
   "source": [
    "Labels = [kmeans_0.labels_, kmeans_1.labels_, kmeans_2.labels_, kmeans_3.labels_, kmeans_4.labels_]\n",
    "GMM_Labels = [GMM_0.predict(np.array([synthetic_set_X[0], synthetic_set_Y[0]]).T), \n",
    "              GMM_1.predict(np.array([synthetic_set_X[1], synthetic_set_Y[1]]).T), \n",
    "              GMM_2.predict(np.array([synthetic_set_X[2], synthetic_set_Y[2]]).T), \n",
    "              GMM_3.predict(np.array([synthetic_set_X[3], synthetic_set_Y[3]]).T), \n",
    "              GMM_4.predict(np.array([synthetic_set_X[4], synthetic_set_Y[4]]).T)]"
   ]
  },
  {
   "cell_type": "code",
   "execution_count": 6,
   "metadata": {},
   "outputs": [],
   "source": [
    "Acc = [0.0]*5\n",
    "GMM_Acc = [0.0]*5"
   ]
  },
  {
   "attachments": {},
   "cell_type": "markdown",
   "metadata": {},
   "source": [
    "### Sigma = 0.5"
   ]
  },
  {
   "cell_type": "code",
   "execution_count": 7,
   "metadata": {},
   "outputs": [
    {
     "data": {
      "text/plain": [
       "array([[ 1.10557861, -1.84896804],\n",
       "       [ 0.37109905, -0.15596143],\n",
       "       [-1.28833108, -1.36432305]])"
      ]
     },
     "execution_count": 7,
     "metadata": {},
     "output_type": "execute_result"
    }
   ],
   "source": [
    "Centers[0]"
   ]
  },
  {
   "cell_type": "code",
   "execution_count": 8,
   "metadata": {},
   "outputs": [
    {
     "name": "stdout",
     "output_type": "stream",
     "text": [
      "175 0.5833333333333334\n"
     ]
    }
   ],
   "source": [
    "acc_count_0 = 0\n",
    "for i in range(0,100):\n",
    "    if Labels[0][i] == 2:\n",
    "        acc_count_0 = acc_count_0 + 1\n",
    "    if Labels[0][i+100] == 0:\n",
    "        acc_count_0 = acc_count_0 + 1\n",
    "    if Labels[0][i+200] == 1:\n",
    "        acc_count_0 = acc_count_0 + 1\n",
    "acc_0 = acc_count_0/300\n",
    "\n",
    "print(acc_count_0, acc_0)"
   ]
  },
  {
   "cell_type": "code",
   "execution_count": 9,
   "metadata": {},
   "outputs": [
    {
     "data": {
      "text/plain": [
       "array([[ 1.14721266, -1.53415273],\n",
       "       [ 0.16838557, -0.34425958],\n",
       "       [-1.12973795, -1.4080574 ]])"
      ]
     },
     "execution_count": 9,
     "metadata": {},
     "output_type": "execute_result"
    }
   ],
   "source": [
    "GMM_Centers[0]"
   ]
  },
  {
   "cell_type": "code",
   "execution_count": 10,
   "metadata": {},
   "outputs": [
    {
     "name": "stdout",
     "output_type": "stream",
     "text": [
      "185 0.6166666666666667\n"
     ]
    }
   ],
   "source": [
    "GMM_acc_count_0 = 0\n",
    "for i in range(0,100):\n",
    "    if GMM_Labels[0][i] == 2:\n",
    "        GMM_acc_count_0 = GMM_acc_count_0 + 1\n",
    "    if GMM_Labels[0][i+100] == 0:\n",
    "        GMM_acc_count_0 = GMM_acc_count_0 + 1\n",
    "    if GMM_Labels[0][i+200] == 1:\n",
    "        GMM_acc_count_0 = GMM_acc_count_0 + 1\n",
    "GMM_acc_0 = GMM_acc_count_0/300\n",
    "\n",
    "print(GMM_acc_count_0, GMM_acc_0)"
   ]
  },
  {
   "attachments": {},
   "cell_type": "markdown",
   "metadata": {},
   "source": [
    "### Simga = 1"
   ]
  },
  {
   "cell_type": "code",
   "execution_count": 11,
   "metadata": {},
   "outputs": [
    {
     "data": {
      "text/plain": [
       "array([[ 0.5357081 ,  0.03386678],\n",
       "       [ 1.12967912, -2.07010959],\n",
       "       [-1.73480689, -1.42405126]])"
      ]
     },
     "execution_count": 11,
     "metadata": {},
     "output_type": "execute_result"
    }
   ],
   "source": [
    "Centers[1]"
   ]
  },
  {
   "cell_type": "code",
   "execution_count": 12,
   "metadata": {},
   "outputs": [
    {
     "name": "stdout",
     "output_type": "stream",
     "text": [
      "165 0.55\n"
     ]
    }
   ],
   "source": [
    "acc_count_1 = 0\n",
    "for i in range(0,100):\n",
    "    if Labels[1][i] == 2:\n",
    "        acc_count_1 = acc_count_1 + 1\n",
    "    if Labels[1][i+100] == 1:\n",
    "        acc_count_1 = acc_count_1 + 1\n",
    "    if Labels[1][i+200] == 0:\n",
    "        acc_count_1 = acc_count_1 + 1\n",
    "acc_1 = acc_count_1/300\n",
    "\n",
    "print(acc_count_1, acc_1)"
   ]
  },
  {
   "cell_type": "code",
   "execution_count": 13,
   "metadata": {},
   "outputs": [
    {
     "data": {
      "text/plain": [
       "array([[ 1.10485727, -1.59075823],\n",
       "       [-1.63578601, -1.7067388 ],\n",
       "       [-0.05924745, -0.35966197]])"
      ]
     },
     "execution_count": 13,
     "metadata": {},
     "output_type": "execute_result"
    }
   ],
   "source": [
    "GMM_Centers[1]"
   ]
  },
  {
   "cell_type": "code",
   "execution_count": 14,
   "metadata": {},
   "outputs": [
    {
     "name": "stdout",
     "output_type": "stream",
     "text": [
      "154 0.5133333333333333\n"
     ]
    }
   ],
   "source": [
    "GMM_acc_count_1 = 0\n",
    "for i in range(0,100):\n",
    "    if GMM_Labels[1][i] == 1:\n",
    "        GMM_acc_count_1 = GMM_acc_count_1 + 1\n",
    "    if GMM_Labels[1][i+100] == 0:\n",
    "        GMM_acc_count_1 = GMM_acc_count_1 + 1\n",
    "    if GMM_Labels[1][i+200] == 2:\n",
    "        GMM_acc_count_1 = GMM_acc_count_1 + 1\n",
    "GMM_acc_1 = GMM_acc_count_1/300\n",
    "\n",
    "print(GMM_acc_count_1, GMM_acc_1)"
   ]
  },
  {
   "attachments": {},
   "cell_type": "markdown",
   "metadata": {},
   "source": [
    "### Sigma = 2"
   ]
  },
  {
   "cell_type": "code",
   "execution_count": 15,
   "metadata": {},
   "outputs": [
    {
     "data": {
      "text/plain": [
       "array([[ 1.56950613, -2.18506657],\n",
       "       [-2.08364706, -1.8895843 ],\n",
       "       [ 0.22326061,  0.59239344]])"
      ]
     },
     "execution_count": 15,
     "metadata": {},
     "output_type": "execute_result"
    }
   ],
   "source": [
    "Centers[2]"
   ]
  },
  {
   "cell_type": "code",
   "execution_count": 16,
   "metadata": {},
   "outputs": [
    {
     "name": "stdout",
     "output_type": "stream",
     "text": [
      "148 0.49333333333333335\n"
     ]
    }
   ],
   "source": [
    "acc_count_2 = 0\n",
    "for i in range(0,100):\n",
    "    if Labels[2][i] == 1:\n",
    "        acc_count_2 = acc_count_2 + 1\n",
    "    if Labels[2][i+100] == 0:\n",
    "        acc_count_2 = acc_count_2 + 1\n",
    "    if Labels[2][i+200] == 2:\n",
    "        acc_count_2 = acc_count_2 + 1\n",
    "acc_2 = acc_count_2/300\n",
    "\n",
    "print(acc_count_2, acc_2)"
   ]
  },
  {
   "cell_type": "code",
   "execution_count": 17,
   "metadata": {},
   "outputs": [
    {
     "data": {
      "text/plain": [
       "array([[ 0.97022034, -1.99535527],\n",
       "       [-1.70286628, -1.64171298],\n",
       "       [ 0.55906143, -0.04440581]])"
      ]
     },
     "execution_count": 17,
     "metadata": {},
     "output_type": "execute_result"
    }
   ],
   "source": [
    "GMM_Centers[2]"
   ]
  },
  {
   "cell_type": "code",
   "execution_count": 19,
   "metadata": {},
   "outputs": [
    {
     "name": "stdout",
     "output_type": "stream",
     "text": [
      "139 0.4633333333333333\n"
     ]
    }
   ],
   "source": [
    "GMM_acc_count_2 = 0\n",
    "for i in range(0,100):\n",
    "    if GMM_Labels[2][i] == 1:\n",
    "        GMM_acc_count_2 = GMM_acc_count_2 + 1\n",
    "    if GMM_Labels[2][i+100] == 0:\n",
    "        GMM_acc_count_2 = GMM_acc_count_2 + 1\n",
    "    if GMM_Labels[2][i+200] == 2:\n",
    "        GMM_acc_count_2 = GMM_acc_count_2 + 1\n",
    "GMM_acc_2 = GMM_acc_count_2/300\n",
    "\n",
    "print(GMM_acc_count_2, GMM_acc_2)"
   ]
  },
  {
   "attachments": {},
   "cell_type": "markdown",
   "metadata": {},
   "source": [
    "### Sigma = 4"
   ]
  },
  {
   "cell_type": "code",
   "execution_count": 20,
   "metadata": {},
   "outputs": [
    {
     "data": {
      "text/plain": [
       "array([[ 1.42157453, -3.26244524],\n",
       "       [ 0.3041839 ,  1.29513458],\n",
       "       [-3.38363954, -2.1345497 ]])"
      ]
     },
     "execution_count": 20,
     "metadata": {},
     "output_type": "execute_result"
    }
   ],
   "source": [
    "Centers[3]"
   ]
  },
  {
   "cell_type": "code",
   "execution_count": 21,
   "metadata": {},
   "outputs": [
    {
     "name": "stdout",
     "output_type": "stream",
     "text": [
      "147 0.49\n"
     ]
    }
   ],
   "source": [
    "acc_count_3 = 0\n",
    "for i in range(0,100):\n",
    "    if Labels[3][i] == 2:\n",
    "        acc_count_3 = acc_count_3 + 1\n",
    "    if Labels[3][i+100] == 0:\n",
    "        acc_count_3 = acc_count_3 + 1\n",
    "    if Labels[3][i+200] == 1:\n",
    "        acc_count_3 = acc_count_3 + 1\n",
    "acc_3 = acc_count_3/300\n",
    "\n",
    "print(acc_count_3, acc_3)"
   ]
  },
  {
   "cell_type": "code",
   "execution_count": 22,
   "metadata": {},
   "outputs": [
    {
     "data": {
      "text/plain": [
       "array([[ 1.00720652, -2.85261305],\n",
       "       [ 0.38747981,  0.95912544],\n",
       "       [-2.4558711 , -1.60407744]])"
      ]
     },
     "execution_count": 22,
     "metadata": {},
     "output_type": "execute_result"
    }
   ],
   "source": [
    "GMM_Centers[3]"
   ]
  },
  {
   "cell_type": "code",
   "execution_count": 23,
   "metadata": {},
   "outputs": [
    {
     "name": "stdout",
     "output_type": "stream",
     "text": [
      "145 0.48333333333333334\n"
     ]
    }
   ],
   "source": [
    "GMM_acc_count_3 = 0\n",
    "for i in range(0,100):\n",
    "    if GMM_Labels[3][i] == 2:\n",
    "        GMM_acc_count_3 = GMM_acc_count_3 + 1\n",
    "    if GMM_Labels[3][i+100] == 0:\n",
    "        GMM_acc_count_3 = GMM_acc_count_3 + 1\n",
    "    if GMM_Labels[3][i+200] == 1:\n",
    "        GMM_acc_count_3 = GMM_acc_count_3 + 1\n",
    "GMM_acc_3 = GMM_acc_count_3/300\n",
    "\n",
    "print(GMM_acc_count_3, GMM_acc_3)"
   ]
  },
  {
   "attachments": {},
   "cell_type": "markdown",
   "metadata": {},
   "source": [
    "### Sigma = 8"
   ]
  },
  {
   "cell_type": "code",
   "execution_count": 24,
   "metadata": {},
   "outputs": [
    {
     "data": {
      "text/plain": [
       "array([[ 1.53491493,  1.7254009 ],\n",
       "       [ 1.27246013, -4.70606579],\n",
       "       [-3.3143375 , -1.36985873]])"
      ]
     },
     "execution_count": 24,
     "metadata": {},
     "output_type": "execute_result"
    }
   ],
   "source": [
    "Centers[4]"
   ]
  },
  {
   "cell_type": "code",
   "execution_count": 28,
   "metadata": {},
   "outputs": [
    {
     "name": "stdout",
     "output_type": "stream",
     "text": [
      "139 0.4633333333333333\n"
     ]
    }
   ],
   "source": [
    "acc_count_4 = 0\n",
    "for i in range(0,100):\n",
    "    if Labels[4][i] == 2:\n",
    "        acc_count_4 = acc_count_4 + 1\n",
    "    if Labels[4][i+100] == 1:\n",
    "        acc_count_4 = acc_count_4 + 1\n",
    "    if Labels[4][i+200] == 0:\n",
    "        acc_count_4 = acc_count_4 + 1\n",
    "acc_4 = acc_count_4/300\n",
    "\n",
    "print(acc_count_4, acc_4)"
   ]
  },
  {
   "cell_type": "code",
   "execution_count": 29,
   "metadata": {},
   "outputs": [
    {
     "data": {
      "text/plain": [
       "array([[ 2.51666451, -1.94053035],\n",
       "       [-1.28864324,  0.77187485],\n",
       "       [-1.93285347, -2.32173378]])"
      ]
     },
     "execution_count": 29,
     "metadata": {},
     "output_type": "execute_result"
    }
   ],
   "source": [
    "GMM_Centers[4]"
   ]
  },
  {
   "cell_type": "code",
   "execution_count": 30,
   "metadata": {},
   "outputs": [
    {
     "name": "stdout",
     "output_type": "stream",
     "text": [
      "135 0.45\n"
     ]
    }
   ],
   "source": [
    "GMM_acc_count_4 = 0\n",
    "for i in range(0,100):\n",
    "    if GMM_Labels[4][i] == 2:\n",
    "        GMM_acc_count_4 = GMM_acc_count_4 + 1\n",
    "    if GMM_Labels[4][i+100] == 0:\n",
    "        GMM_acc_count_4 = GMM_acc_count_4 + 1\n",
    "    if GMM_Labels[4][i+200] == 1:\n",
    "        GMM_acc_count_4 = GMM_acc_count_4 + 1\n",
    "GMM_acc_4 = GMM_acc_count_4/300\n",
    "\n",
    "print(GMM_acc_count_4, GMM_acc_4)"
   ]
  },
  {
   "attachments": {},
   "cell_type": "markdown",
   "metadata": {},
   "source": [
    "## Best Performance"
   ]
  },
  {
   "cell_type": "code",
   "execution_count": 31,
   "metadata": {},
   "outputs": [],
   "source": [
    "Acc[0], Acc[1], Acc[2], Acc[3], Acc[4]  = acc_0, acc_1, acc_2, acc_3, acc_4\n",
    "GMM_Acc[0], GMM_Acc[1], GMM_Acc[2], GMM_Acc[3], GMM_Acc[4]  = GMM_acc_0, GMM_acc_1, GMM_acc_2, GMM_acc_3, GMM_acc_4"
   ]
  },
  {
   "cell_type": "code",
   "execution_count": 32,
   "metadata": {},
   "outputs": [
    {
     "data": {
      "text/plain": [
       "[0.5833333333333334, 0.55, 0.49333333333333335, 0.49, 0.4633333333333333]"
      ]
     },
     "execution_count": 32,
     "metadata": {},
     "output_type": "execute_result"
    }
   ],
   "source": [
    "Acc"
   ]
  },
  {
   "cell_type": "code",
   "execution_count": 33,
   "metadata": {},
   "outputs": [],
   "source": [
    "Best = [0.6, 0.56, 0.493, 0.49, 0.47]"
   ]
  },
  {
   "cell_type": "code",
   "execution_count": 34,
   "metadata": {},
   "outputs": [
    {
     "data": {
      "text/plain": [
       "[0.6166666666666667,\n",
       " 0.5133333333333333,\n",
       " 0.4633333333333333,\n",
       " 0.48333333333333334,\n",
       " 0.45]"
      ]
     },
     "execution_count": 34,
     "metadata": {},
     "output_type": "execute_result"
    }
   ],
   "source": [
    "GMM_Acc"
   ]
  },
  {
   "cell_type": "code",
   "execution_count": 35,
   "metadata": {},
   "outputs": [],
   "source": [
    "GMM_Best = [0.616, 0.513, 0.463, 0.483, 0.45]"
   ]
  },
  {
   "cell_type": "code",
   "execution_count": 36,
   "metadata": {},
   "outputs": [],
   "source": [
    "GMM_neglog = [0.0]*5\n",
    "GMM_neglog[0] = -1*GMM_0.score(np.array([synthetic_set_X[0], synthetic_set_Y[0]]).T)\n",
    "GMM_neglog[1] = -1*GMM_1.score(np.array([synthetic_set_X[1], synthetic_set_Y[1]]).T)\n",
    "GMM_neglog[2] = -1*GMM_2.score(np.array([synthetic_set_X[2], synthetic_set_Y[2]]).T)\n",
    "GMM_neglog[3] = -1*GMM_3.score(np.array([synthetic_set_X[3], synthetic_set_Y[3]]).T)\n",
    "GMM_neglog[4] = -1*GMM_4.score(np.array([synthetic_set_X[4], synthetic_set_Y[4]]).T)"
   ]
  },
  {
   "cell_type": "code",
   "execution_count": 37,
   "metadata": {},
   "outputs": [],
   "source": [
    "km_Score = [0.0]*5\n",
    "km_Score[0] = -1*kmeans_0.score(np.array([synthetic_set_X[0], synthetic_set_Y[0]]).T)/300\n",
    "km_Score[1] = -1*kmeans_1.score(np.array([synthetic_set_X[1], synthetic_set_Y[1]]).T)/300\n",
    "km_Score[2] = -1*kmeans_2.score(np.array([synthetic_set_X[2], synthetic_set_Y[2]]).T)/300\n",
    "km_Score[3] = -1*kmeans_3.score(np.array([synthetic_set_X[3], synthetic_set_Y[3]]).T)/300\n",
    "km_Score[4] = -1*kmeans_4.score(np.array([synthetic_set_X[4], synthetic_set_Y[4]]).T)/300"
   ]
  },
  {
   "attachments": {},
   "cell_type": "markdown",
   "metadata": {},
   "source": [
    "## Plots"
   ]
  },
  {
   "cell_type": "code",
   "execution_count": 289,
   "metadata": {},
   "outputs": [
    {
     "data": {
      "image/png": "[encoded data removed]",
      "text/plain": [
       "<Figure size 540x432 with 1 Axes>"
      ]
     },
     "metadata": {},
     "output_type": "display_data"
    }
   ],
   "source": [
    "fig,ax=plt.subplots(1,figsize=(7.5,6), facecolor='white')\n",
    "ax.grid(color='gray',axis='both',alpha=0.2)\n",
    "ax.tick_params(left=True, bottom=True, labelleft = True, labelbottom=True, labelsize=14)\n",
    "\n",
    "ax.set_xlabel('Sigma', fontsize=18)\n",
    "ax.set_ylabel('Clustering Objective', fontsize=18)\n",
    "ax.set_xlim(0,8)\n",
    "\n",
    "plt.plot(sigma, km_Score, label = \"K-Means Mean Squared Error\", color = \"blue\")\n",
    "plt.plot(sigma, GMM_neglog, label = \"GMM Neg Log Likelihood\", color = \"green\")\n",
    "\n",
    "plt.legend(fontsize=14)\n",
    "\n",
    "plt.savefig(\"/Users/elvis/Documents/Graduate/Courses/CS760/HW5/Problem 2.3 Clustering Objective.png\", dpi=300, bbox_inches='tight')"
   ]
  },
  {
   "cell_type": "code",
   "execution_count": 290,
   "metadata": {},
   "outputs": [
    {
     "data": {
      "image/png": "[encoded data removed]",
      "text/plain": [
       "<Figure size 540x432 with 1 Axes>"
      ]
     },
     "metadata": {},
     "output_type": "display_data"
    }
   ],
   "source": [
    "fig,ax=plt.subplots(1,figsize=(7.5,6), facecolor='white')\n",
    "ax.grid(color='gray',axis='both',alpha=0.2)\n",
    "ax.tick_params(left=True, bottom=True, labelleft = True, labelbottom=True, labelsize=14)\n",
    "\n",
    "ax.set_xlabel('Sigma', fontsize=18)\n",
    "ax.set_ylabel('Clustering Accuracy', fontsize=18)\n",
    "ax.set_xlim(0,8)\n",
    "\n",
    "plt.plot(sigma, Best, label = \"K-Means\", color = \"blue\")\n",
    "plt.plot(sigma, GMM_Best, label = \"GMM\", color = \"green\")\n",
    "\n",
    "plt.legend(fontsize=14)\n",
    "\n",
    "plt.savefig(\"/Users/elvis/Documents/Graduate/Courses/CS760/HW5/Problem 2.3 Clustering Accuracy.png\", dpi=300, bbox_inches='tight')"
   ]
  },
  {
   "attachments": {},
   "cell_type": "markdown",
   "metadata": {},
   "source": [
    "# Problem 2.4"
   ]
  },
  {
   "cell_type": "code",
   "execution_count": 291,
   "metadata": {},
   "outputs": [],
   "source": [
    "twoD_set = pd.read_csv(r'/Users/elvis/Documents/Graduate/Courses/CS760/HW5/hw5/data/data2D.csv', header=None)\n",
    "thousandD_set = pd.read_csv(r'/Users/elvis/Documents/Graduate/Courses/CS760/HW5/hw5/data/data1000D.csv', header=None)"
   ]
  },
  {
   "attachments": {},
   "cell_type": "markdown",
   "metadata": {},
   "source": [
    "## PCA and DRO"
   ]
  },
  {
   "cell_type": "code",
   "execution_count": 292,
   "metadata": {},
   "outputs": [],
   "source": [
    "two_d_mat = twoD_set.to_numpy(dtype='float64', copy=False)\n",
    "thousand_d_mat = thousandD_set.to_numpy(dtype='float64', copy=False)"
   ]
  },
  {
   "cell_type": "code",
   "execution_count": 293,
   "metadata": {},
   "outputs": [],
   "source": [
    "def svd(mat,d,rec):\n",
    "    u, s, vT = np.linalg.svd(mat, full_matrices=False)\n",
    "    s = np.diag(s)\n",
    "    z = mat@(vT.T)[:,:d]\n",
    "    x_rec = z@(vT.T)[:,:d].T\n",
    "    mse = mean_squared_error(mat, x_rec)*(d+1)\n",
    "    \n",
    "    if rec == True:\n",
    "        return(x_rec)\n",
    "    else:\n",
    "        return(mse)"
   ]
  },
  {
   "cell_type": "code",
   "execution_count": 294,
   "metadata": {},
   "outputs": [],
   "source": [
    "def dm_svd(mat_1,d,rec):\n",
    "    scaler = StandardScaler(with_mean=True, with_std=False)\n",
    "    mat = scaler.fit_transform(mat_1)\n",
    "    u, s, vT = np.linalg.svd(mat, full_matrices=False)\n",
    "    s = np.diag(s)\n",
    "    z = mat@(vT.T)[:,:d]\n",
    "    x_rec = scaler.inverse_transform(z@(vT.T)[:,:d].T)\n",
    "    mse = mean_squared_error(mat_1, x_rec)*(d+1)\n",
    "    \n",
    "    if rec == True:\n",
    "        return(x_rec)\n",
    "    else:\n",
    "        return(mse)"
   ]
  },
  {
   "cell_type": "code",
   "execution_count": 295,
   "metadata": {},
   "outputs": [],
   "source": [
    "def scl_svd(mat_1,d,rec):\n",
    "    scaler = StandardScaler(with_mean=True, with_std=True)\n",
    "    mat = scaler.fit_transform(mat_1)\n",
    "    u, s, vT = np.linalg.svd(mat, full_matrices=False)\n",
    "    s = np.diag(s)\n",
    "    z = mat@(vT.T)[:,:d]\n",
    "    x_rec = scaler.inverse_transform(z@(vT.T)[:,:d].T)\n",
    "    mse = mean_squared_error(mat_1, x_rec)*(d+1)\n",
    "    \n",
    "    if rec == True:\n",
    "        return(x_rec)\n",
    "    else:\n",
    "        return(mse)"
   ]
  },
  {
   "cell_type": "code",
   "execution_count": 296,
   "metadata": {},
   "outputs": [],
   "source": [
    "def DRO(mat_1,d,rec):\n",
    "    scaler = StandardScaler(with_mean=True, with_std=False)\n",
    "    mat = scaler.fit_transform(mat_1)\n",
    "    u, s, vT = np.linalg.svd(mat, full_matrices=False)\n",
    "    s = np.diag(s)\n",
    "    z = mat@(vT.T)[:,:d]\n",
    "    x_rec = scaler.inverse_transform(z@(vT.T)[:,:d].T)\n",
    "    mse = mean_squared_error(mat_1, x_rec)*(d+1)\n",
    "    \n",
    "    if rec == True:\n",
    "        return(x_rec)\n",
    "    else:\n",
    "        return(mse)"
   ]
  },
  {
   "attachments": {},
   "cell_type": "markdown",
   "metadata": {},
   "source": [
    "## 2-D"
   ]
  },
  {
   "cell_type": "code",
   "execution_count": 297,
   "metadata": {},
   "outputs": [
    {
     "data": {
      "text/plain": [
       "(0.886903083734794,\n",
       " 0.010006085628512887,\n",
       " 0.04947208345477053,\n",
       " 0.010006085628512887)"
      ]
     },
     "execution_count": 297,
     "metadata": {},
     "output_type": "execute_result"
    }
   ],
   "source": [
    "svd(two_d_mat,1,False), dm_svd(two_d_mat,1,False), scl_svd(two_d_mat,1,False), DRO(two_d_mat,1,False)"
   ]
  },
  {
   "attachments": {},
   "cell_type": "markdown",
   "metadata": {},
   "source": [
    "### Plots"
   ]
  },
  {
   "cell_type": "code",
   "execution_count": 314,
   "metadata": {},
   "outputs": [
    {
     "data": {
      "image/png": "[encoded data removed]",
      "text/plain": [
       "<Figure size 540x432 with 1 Axes>"
      ]
     },
     "metadata": {},
     "output_type": "display_data"
    }
   ],
   "source": [
    "fig,ax=plt.subplots(1,figsize=(7.5,6), facecolor='white')\n",
    "ax.grid(color='gray',axis='both',alpha=0.2)\n",
    "ax.tick_params(left=True, bottom=True, labelleft = True, labelbottom=True, labelsize=14)\n",
    "\n",
    "ax.set_title('Buggy PCA', fontsize=18)\n",
    "ax.set_xlim(0,10)\n",
    "ax.set_ylim(0,10)\n",
    "\n",
    "\n",
    "plt.scatter(twoD_set[0], twoD_set[1], label = 'Original Data')\n",
    "plt.scatter(svd(two_d_mat,1,True)[:,0], svd(two_d_mat,1,True)[:,1], label = 'Reconstruction')\n",
    "\n",
    "plt.legend(fontsize=14)\n",
    "\n",
    "plt.savefig(\"/Users/elvis/Documents/Graduate/Courses/CS760/HW5/Problem 2.4 2D PCA.png\", dpi=300, bbox_inches='tight')"
   ]
  },
  {
   "cell_type": "code",
   "execution_count": 307,
   "metadata": {},
   "outputs": [
    {
     "data": {
      "image/png": "[encoded data removed]",
      "text/plain": [
       "<Figure size 540x432 with 1 Axes>"
      ]
     },
     "metadata": {},
     "output_type": "display_data"
    }
   ],
   "source": [
    "fig,ax=plt.subplots(1,figsize=(7.5,6), facecolor='white')\n",
    "ax.grid(color='gray',axis='both',alpha=0.2)\n",
    "ax.tick_params(left=True, bottom=True, labelleft = True, labelbottom=True, labelsize=14)\n",
    "\n",
    "ax.set_title('Demeaned PCA', fontsize=18)\n",
    "ax.set_xlim(0,10)\n",
    "ax.set_ylim(0,10)\n",
    "\n",
    "\n",
    "plt.scatter(twoD_set[0], twoD_set[1], label = 'Original Data')\n",
    "plt.scatter(dm_svd(two_d_mat,1,True)[:,0], dm_svd(two_d_mat,1,True)[:,1], label = 'Reconstruction')\n",
    "\n",
    "plt.legend(fontsize=14)\n",
    "\n",
    "plt.savefig(\"/Users/elvis/Documents/Graduate/Courses/CS760/HW5/Problem 2.4 2D Demeaned PCA.png\", dpi=300, bbox_inches='tight')"
   ]
  },
  {
   "cell_type": "code",
   "execution_count": 308,
   "metadata": {},
   "outputs": [
    {
     "data": {
      "image/png": "[encoded data removed]",
      "text/plain": [
       "<Figure size 540x432 with 1 Axes>"
      ]
     },
     "metadata": {},
     "output_type": "display_data"
    }
   ],
   "source": [
    "fig,ax=plt.subplots(1,figsize=(7.5,6), facecolor='white')\n",
    "ax.grid(color='gray',axis='both',alpha=0.2)\n",
    "ax.tick_params(left=True, bottom=True, labelleft = True, labelbottom=True, labelsize=14)\n",
    "\n",
    "ax.set_title('Normalized PCA', fontsize=18)\n",
    "ax.set_xlim(0,10)\n",
    "ax.set_ylim(0,10)\n",
    "\n",
    "\n",
    "plt.scatter(twoD_set[0], twoD_set[1], label = 'Original Data')\n",
    "plt.scatter(scl_svd(two_d_mat,1,True)[:,0], scl_svd(two_d_mat,1,True)[:,1], label = 'Reconstruction')\n",
    "\n",
    "plt.legend(fontsize=14)\n",
    "\n",
    "plt.savefig(\"/Users/elvis/Documents/Graduate/Courses/CS760/HW5/Problem 2.4 2D Normalized PCA.png\", dpi=300, bbox_inches='tight')"
   ]
  },
  {
   "cell_type": "code",
   "execution_count": 309,
   "metadata": {},
   "outputs": [
    {
     "data": {
      "image/png": "[encoded data removed]",
      "text/plain": [
       "<Figure size 540x432 with 1 Axes>"
      ]
     },
     "metadata": {},
     "output_type": "display_data"
    }
   ],
   "source": [
    "fig,ax=plt.subplots(1,figsize=(7.5,6), facecolor='white')\n",
    "ax.grid(color='gray',axis='both',alpha=0.2)\n",
    "ax.tick_params(left=True, bottom=True, labelleft = True, labelbottom=True, labelsize=14)\n",
    "\n",
    "ax.set_title('DRO', fontsize=18)\n",
    "ax.set_xlim(0,10)\n",
    "ax.set_ylim(0,10)\n",
    "\n",
    "\n",
    "plt.scatter(twoD_set[0], twoD_set[1], label = 'Original Data')\n",
    "plt.scatter(DRO(two_d_mat,1,True)[:,0], DRO(two_d_mat,1,True)[:,1], label = 'Reconstruction')\n",
    "\n",
    "plt.legend(fontsize=14)\n",
    "\n",
    "plt.savefig(\"/Users/elvis/Documents/Graduate/Courses/CS760/HW5/Problem 2.4 2D DRO.png\", dpi=300, bbox_inches='tight')"
   ]
  },
  {
   "attachments": {},
   "cell_type": "markdown",
   "metadata": {},
   "source": [
    "## 1000-D"
   ]
  },
  {
   "cell_type": "code",
   "execution_count": 302,
   "metadata": {},
   "outputs": [],
   "source": [
    "u_thous, s_thous, vT_thous = np.linalg.svd(thousand_d_mat, full_matrices=False)"
   ]
  },
  {
   "cell_type": "code",
   "execution_count": 313,
   "metadata": {},
   "outputs": [
    {
     "data": {
      "image/png": "[encoded data removed]",
      "text/plain": [
       "<Figure size 540x432 with 1 Axes>"
      ]
     },
     "metadata": {},
     "output_type": "display_data"
    }
   ],
   "source": [
    "fig,ax=plt.subplots(1,figsize=(7.5,6), facecolor='white')\n",
    "ax.grid(color='gray',axis='both',alpha=0.2)\n",
    "ax.tick_params(left=True, bottom=True, labelleft = True, labelbottom=True, labelsize=14)\n",
    "\n",
    "ax.set_title('Singular Values', fontsize=18)\n",
    "ax.set_ylabel('Value', fontsize=18)\n",
    "ax.set_xlabel('Singular Value Number', fontsize=18)\n",
    "ax.set_xlim(-10,200)\n",
    "ax.set_ylim(-500,16500)\n",
    "\n",
    "plt.plot(np.arange(0,500,1), s_thous, label = \"Singular Values\")\n",
    "plt.plot([30,30],[-500,16500], label = \"X = 31\")\n",
    "\n",
    "plt.legend(fontsize=14)\n",
    "\n",
    "plt.savefig(\"/Users/elvis/Documents/Graduate/Courses/CS760/HW5/Problem 2.4 Singular Values.png\", dpi=300, bbox_inches='tight')"
   ]
  },
  {
   "cell_type": "code",
   "execution_count": 304,
   "metadata": {},
   "outputs": [
    {
     "data": {
      "text/plain": [
       "(8.728638375098065, 8.68465933508077, 8.705885656812908, 8.68465933508077)"
      ]
     },
     "execution_count": 304,
     "metadata": {},
     "output_type": "execute_result"
    }
   ],
   "source": [
    "svd(thousand_d_mat,31,False), dm_svd(thousand_d_mat,31,False), scl_svd(thousand_d_mat,31,False), DRO(thousand_d_mat,31,False)"
   ]
  }
 ],
 "metadata": {
  "kernelspec": {
   "display_name": "rdkit-env",
   "language": "python",
   "name": "python3"
  },
  "language_info": {
   "codemirror_mode": {
    "name": "ipython",
    "version": 3
   },
   "file_extension": ".py",
   "mimetype": "text/x-python",
   "name": "python",
   "nbconvert_exporter": "python",
   "pygments_lexer": "ipython3",
   "version": "3.9.7"
  },
  "orig_nbformat": 4,
  "vscode": {
   "interpreter": {
    "hash": "e643d4fd3ec1db81d393551f271cf70d6b70a41f0b198b244df41a746c6c6fef"
   }
  }
 },
 "nbformat": 4,
 "nbformat_minor": 2
}
